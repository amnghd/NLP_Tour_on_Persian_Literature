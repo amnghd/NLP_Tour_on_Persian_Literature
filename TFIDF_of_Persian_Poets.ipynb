{
 "cells": [
  {
   "cell_type": "code",
   "execution_count": 1,
   "metadata": {},
   "outputs": [],
   "source": [
    "import glob\n",
    "from sklearn.feature_extraction.text import TfidfVectorizer\n",
    "import re\n",
    "from sklearn.decomposition import TruncatedSVD # PCA used for sparce matrices\n",
    "from sklearn.cluster import KMeans # used for clustering\n",
    "from sklearn.pipeline import make_pipeline #developing a pipeline for our fit transform\n",
    "import pandas as pd"
   ]
  },
  {
   "cell_type": "code",
   "execution_count": 2,
   "metadata": {},
   "outputs": [],
   "source": [
    "def book_importer(file_name): # to import the books as a text file\n",
    "    with open(file_name, 'r', encoding=\"utf8\") as myfile:\n",
    "        line = myfile.read().replace('\\n', ' ').replace(\",\",\"\").replace(\":\",\"\").replace(\"ۀ\",\"ه\").replace(\"-\",\"\").replace(\"،\",\"\")\n",
    "        line = re.sub(\"\\d\",\"\",line) # removing numbers\n",
    "    return line"
   ]
  },
  {
   "cell_type": "code",
   "execution_count": 3,
   "metadata": {},
   "outputs": [],
   "source": [
    "# Importing all the poet books into a list\n",
    "pattern = 'poets/*.txt'\n",
    "poet_files = glob.glob(pattern)"
   ]
  },
  {
   "cell_type": "code",
   "execution_count": 4,
   "metadata": {},
   "outputs": [],
   "source": [
    "poet_labels_persian = ['ابوسعید ابوالخیر', 'امیر معظی'\n",
    "                       , 'انوری', 'عارف قزوینی', 'اسعد گرگانی', 'اسدی توسی', 'عطار نیشابوری',\n",
    " 'ارزقی', 'بابافاضل', 'باباطاهر', 'شیخ بهایی', 'ملک الشعرای بهار', 'بیدل دهلوی', 'ابن حسام',\n",
    " 'عراقی', 'فرخی',  'فردوسی', 'فیض کاشانی', 'فروغی', 'قاآنی', 'گیلانی', 'حافظ', 'هاتف اصفهانی',\n",
    " 'هلالی',  'اقبال لاهوری', 'جبلی', 'جامی', 'کمال اسماعیل',  'خاقانی', 'خاجوی کرمانی',\n",
    "  'خیام', 'امیرخسرو', 'مهستی', 'منوچهری', 'مسعود سعد', 'میبدی', 'محتشم',\n",
    " 'مولوی', 'ناصر خسرو', 'نزاری قهستانی', 'عبید زاکانی', 'عمان سامانی', 'عنصری', 'عرفی',\n",
    " 'اوحدی', 'پروین اعتصامی', 'رهی معیری', 'آرتیمانی', 'رودکی', 'سعدی', 'صائب', 'سلمان', 'سنایی',\n",
    " 'سیف فرغانی', 'شبستری', 'شاه نعمت الله', 'شهریار', 'عباس صبوحی', 'وحشی بافقی',  'وطواط',\n",
    " 'ظهیر']"
   ]
  },
  {
   "cell_type": "code",
   "execution_count": 5,
   "metadata": {},
   "outputs": [],
   "source": [
    "documents = []\n",
    "for poet in poet_files:\n",
    "    documents.append(book_importer(poet)[5:])"
   ]
  },
  {
   "cell_type": "code",
   "execution_count": 6,
   "metadata": {},
   "outputs": [],
   "source": [
    "tfidf = TfidfVectorizer()\n",
    "csr_mat = tfidf.fit_transform(documents)"
   ]
  },
  {
   "cell_type": "code",
   "execution_count": 16,
   "metadata": {},
   "outputs": [],
   "source": [
    "#developing a pipeline\n",
    "svd = TruncatedSVD(n_components=5)\n",
    "kmeans = KMeans(n_clusters=3)\n",
    "pipeline = make_pipeline(svd, kmeans)"
   ]
  },
  {
   "cell_type": "code",
   "execution_count": 17,
   "metadata": {},
   "outputs": [],
   "source": [
    "pipeline.fit(csr_mat)\n",
    "labels = pipeline.predict(csr_mat) #Generating the labels for each class"
   ]
  },
  {
   "cell_type": "code",
   "execution_count": 18,
   "metadata": {},
   "outputs": [],
   "source": [
    "df = pd.DataFrame({'labels': labels, 'poets': poet_labels_persian})\n",
    "df= df.sort_values(by='labels')"
   ]
  },
  {
   "cell_type": "code",
   "execution_count": 19,
   "metadata": {},
   "outputs": [
    {
     "name": "stdout",
     "output_type": "stream",
     "text": [
      "    labels          poets\n",
      "59       0          وطواط\n",
      "23       0          هلالی\n",
      "24       0   اقبال لاهوری\n",
      "17       0     فیض کاشانی\n",
      "27       0   کمال اسماعیل\n",
      "53       0     سیف فرغانی\n",
      "29       0   خاجوی کرمانی\n",
      "20       0         گیلانی\n",
      "9        0        بباطاهر\n",
      "41       0    عمان سامانی\n",
      "7        0          ارزقی\n",
      "6        0  عطار نیشابوری\n",
      "35       0          میبدی\n",
      "45       0  پروین اعتصامی\n",
      "37       0          مولوی\n",
      "    labels        poets\n",
      "48       1        رودکی\n",
      "34       1    مسعود سعد\n",
      "26       1         جامی\n",
      "25       1         جبلی\n",
      "38       1    ناصر خسرو\n",
      "33       1      منوچهری\n",
      "60       1         ظهیر\n",
      "42       1        عنصری\n",
      "19       1        قاآنی\n",
      "16       1       فردوسی\n",
      "15       1         فرخی\n",
      "52       1        سنایی\n",
      "1        1    امیر معظی\n",
      "2        1        انوری\n",
      "4        1  اسعد گرگانی\n",
      "5        1    اسدی توسی\n",
      "    labels             poets\n",
      "43       2              عرفی\n",
      "44       2             اوحدی\n",
      "58       2        وحشی بافقی\n",
      "46       2         رهی معیری\n",
      "49       2              سعدی\n",
      "47       2          آرتیمانی\n",
      "56       2            شهریار\n",
      "55       2     شاه نعمت الله\n",
      "54       2            شبستری\n",
      "51       2             سلمان\n",
      "57       2        عباس صبوحی\n",
      "50       2              صائب\n",
      "0        2  ابوسعید ابوالخیر\n",
      "39       2     نزاری قهستانی\n",
      "3        2       عارف قزوینی\n",
      "8        2          بابافاضل\n",
      "10       2         شیخ بهایی\n",
      "11       2  ملک الشعرای بهار\n",
      "12       2        بیدل دهلوی\n",
      "13       2          ابن حسام\n",
      "40       2       عبید زاکانی\n",
      "14       2             عراقی\n",
      "21       2              حافظ\n",
      "22       2      هاتف اصفهانی\n",
      "28       2            خاقانی\n",
      "31       2          امیرخسرو\n",
      "32       2             مهستی\n",
      "36       2             محتشم\n",
      "18       2             فروغی\n",
      "30       2              خیام\n"
     ]
    }
   ],
   "source": [
    "for i in range(df['labels'].nunique()):\n",
    "    print(df[df['labels']==i])"
   ]
  },
  {
   "cell_type": "code",
   "execution_count": null,
   "metadata": {},
   "outputs": [],
   "source": []
  }
 ],
 "metadata": {
  "kernelspec": {
   "display_name": "Python 3",
   "language": "python",
   "name": "python3"
  },
  "language_info": {
   "codemirror_mode": {
    "name": "ipython",
    "version": 3
   },
   "file_extension": ".py",
   "mimetype": "text/x-python",
   "name": "python",
   "nbconvert_exporter": "python",
   "pygments_lexer": "ipython3",
   "version": "3.6.4"
  }
 },
 "nbformat": 4,
 "nbformat_minor": 2
}
