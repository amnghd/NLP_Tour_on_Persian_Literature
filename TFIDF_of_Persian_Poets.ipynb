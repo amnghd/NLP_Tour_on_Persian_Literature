{
 "cells": [
  {
   "cell_type": "markdown",
   "metadata": {},
   "source": [
    "# Clustering Persian Poets\n",
    "\n",
    "In this notebook, I am trying to cluster 48 Persian poets based on their manuscripts. I will use TFIDF to extract features from this book. Then use TruncatedSVD to reduce its dimension to an acceptable level. Finally, K-Means clustering is performed to set the label. A discussion on the possible meaning of each label will finalize this notebook."
   ]
  },
  {
   "cell_type": "code",
   "execution_count": 1,
   "metadata": {},
   "outputs": [],
   "source": [
    "import glob\n",
    "from sklearn.feature_extraction.text import TfidfVectorizer\n",
    "import re\n",
    "from sklearn.decomposition import TruncatedSVD # PCA used for sparce matrices\n",
    "from sklearn.cluster import KMeans # used for clustering\n",
    "from sklearn.pipeline import make_pipeline #developing a pipeline for our fit transform\n",
    "import pandas as pd\n",
    "import matplotlib.pyplot as plt\n",
    "plt.style.use('ggplot')"
   ]
  },
  {
   "cell_type": "markdown",
   "metadata": {},
   "source": [
    "Importing all the files."
   ]
  },
  {
   "cell_type": "code",
   "execution_count": 2,
   "metadata": {},
   "outputs": [],
   "source": [
    "def book_importer(file_name): # to import the books as a text file\n",
    "    with open(file_name, 'r', encoding=\"utf8\") as myfile:\n",
    "        line = myfile.read().replace('\\n', ' ').replace(\",\",\"\").replace(\":\",\"\").replace(\"ۀ\",\"ه\").replace(\"-\",\"\").replace(\"،\",\"\")\n",
    "        line = re.sub(\"\\d\",\"\",line) # removing numbers\n",
    "    return line"
   ]
  },
  {
   "cell_type": "code",
   "execution_count": 3,
   "metadata": {},
   "outputs": [],
   "source": [
    "# Importing all the poet books into a list\n",
    "pattern = 'poets/*.txt'\n",
    "poet_files = glob.glob(pattern)"
   ]
  },
  {
   "cell_type": "markdown",
   "metadata": {},
   "source": [
    "I am importing the persian names of each poet into a list to be used later for clustering purposes."
   ]
  },
  {
   "cell_type": "code",
   "execution_count": 4,
   "metadata": {},
   "outputs": [],
   "source": [
    "poet_labels_persian = ['ابوسعید ابوالخیر', 'امیر معظی'\n",
    "                       , 'انوری', 'اسعد گرگانی', 'اسدی توسی', 'عطار نیشابوری', 'بابافاضل',  'شیخ بهایی', 'ملک الشعرای بهار', 'بیدل دهلوی',\n",
    " 'عراقی', 'فرخی',  'فردوسی', 'فیض کاشانی',  'قاآنی', 'گیلانی', 'حافظ', 'هاتف اصفهانی',\n",
    " 'هلالی',  'اقبال لاهوری', 'جامی', 'کمال اسماعیل',  'خاقانی', 'خاجوی کرمانی',\n",
    "  'خیام', 'امیرخسرو', 'منوچهری', 'مولوی', 'ناصر خسرو', 'نزاری قهستانی', 'عبید زاکانی', 'عنصری', 'عرفی',\n",
    " 'اوحدی', 'پروین اعتصامی', 'رهی معیری', 'آرتیمانی', 'رودکی', 'سعدی', 'صائب', 'سلمان', 'سنایی',\n",
    " 'سیف فرغانی', 'شبستری', 'شاه نعمت الله', 'شهریار', 'وحشی بافقی',\n",
    " 'ظهیر'] "
   ]
  },
  {
   "cell_type": "markdown",
   "metadata": {},
   "source": [
    "Here I will append all the documents into an array and perform a feature extraction using TFIDF. \n",
    "In summary, TFIDF extract more differentiating words from each literature with decreasing the frequency weight for words that have been highly repeated. \n",
    "\n",
    "A simple explanation of TFIDF can be found [here](https://www.quora.com/What-is-the-intuition-behind-tf-idf-transformation-and-when-should-we-apply-the-same)."
   ]
  },
  {
   "cell_type": "code",
   "execution_count": 5,
   "metadata": {},
   "outputs": [],
   "source": [
    "documents = []\n",
    "for poet in poet_files:\n",
    "    documents.append(book_importer(poet)[5:])"
   ]
  },
  {
   "cell_type": "code",
   "execution_count": 6,
   "metadata": {},
   "outputs": [],
   "source": [
    "tfidf = TfidfVectorizer()\n",
    "csr_mat = tfidf.fit_transform(documents)"
   ]
  },
  {
   "cell_type": "markdown",
   "metadata": {},
   "source": [
    "# Choosing number of principle components\n",
    "\n",
    "Let's perform an explained variance analysis to see how many features do we require to keep?"
   ]
  },
  {
   "cell_type": "code",
   "execution_count": 7,
   "metadata": {},
   "outputs": [
    {
     "data": {
      "text/plain": [
       "TruncatedSVD(algorithm='randomized', n_components=48, n_iter=5,\n",
       "       random_state=None, tol=0.0)"
      ]
     },
     "execution_count": 7,
     "metadata": {},
     "output_type": "execute_result"
    }
   ],
   "source": [
    "svd_test = TruncatedSVD(n_components=len(poet_files)) # is the number of poets (observations) and is the maximum size of TruncatedSVD\n",
    "svd_test.fit(csr_mat)"
   ]
  },
  {
   "cell_type": "code",
   "execution_count": 8,
   "metadata": {},
   "outputs": [
    {
     "data": {
      "text/plain": [
       "Text(0.5,1,'Principal components and their explained variance')"
      ]
     },
     "execution_count": 8,
     "metadata": {},
     "output_type": "execute_result"
    },
    {
     "data": {
      "image/png": "[encoded data removed]",
      "text/plain": [
       "<matplotlib.figure.Figure at 0x20dfad66a58>"
      ]
     },
     "metadata": {},
     "output_type": "display_data"
    }
   ],
   "source": [
    "# how much of the variance is explained?\n",
    "features = range(svd_test.n_components)\n",
    "variance = sorted(svd_test.explained_variance_ratio_*100, reverse=True)\n",
    "plt.bar(features, variance)\n",
    "plt.xlabel(\"Principal component number (sorted)\")\n",
    "plt.ylabel(\"Percentage of variance explained\")\n",
    "plt.title(\"Principal components and their explained variance\")"
   ]
  },
  {
   "cell_type": "markdown",
   "metadata": {},
   "source": [
    "It is visually evident that many features have very small contribution to the variance explained. Therefore, I am keeping features that explain more tha 0.5% of the variance. The rest will be considered noise."
   ]
  },
  {
   "cell_type": "code",
   "execution_count": 9,
   "metadata": {},
   "outputs": [],
   "source": [
    "n_features = len([var for var in variance if var>0.5]) #features that explain at least 1% of variance"
   ]
  },
  {
   "cell_type": "code",
   "execution_count": 10,
   "metadata": {},
   "outputs": [
    {
     "name": "stdout",
     "output_type": "stream",
     "text": [
      "97.0% of the variance explained using 40 principal components.\n"
     ]
    }
   ],
   "source": [
    "variance_explained = svd_test.explained_variance_ratio_[:n_features].sum()\n",
    "print(\"{}% of the variance explained using 40 principal components.\".format(round(100*variance_explained)))"
   ]
  },
  {
   "cell_type": "markdown",
   "metadata": {},
   "source": [
    "97% seems to be a reasonable value as it decreases the possibility of memorizing the data into principal components and avoiding the noise to crawl into the decision.  We are willing to sacrifice 3% of variance.\n",
    "\n",
    "# Cluster sweet spot \n",
    "\n",
    "Now let's transform the data and check how many cluster is meaningful for our data?"
   ]
  },
  {
   "cell_type": "code",
   "execution_count": 11,
   "metadata": {},
   "outputs": [],
   "source": [
    "svd40 = TruncatedSVD(n_components=n_features) # keeping more informative featuers\n",
    "principals = svd40.fit_transform(csr_mat)"
   ]
  },
  {
   "cell_type": "markdown",
   "metadata": {},
   "source": [
    "Now I want to know how the inertia (inter-clusster variabce) changes as I increase the number of clusters. We know that more clusters mean less variance, however, we want to see where is that sweet-spot knee-point from which we dont see that much improvement. I other words, we need to find the point that after which the slope of the curve is smaller than slope of the curve before it."
   ]
  },
  {
   "cell_type": "code",
   "execution_count": 12,
   "metadata": {},
   "outputs": [],
   "source": [
    "inertias = [] \n",
    "for i in range(1,15): # you can theoritically have 60 cluster (same as the number of poets)\n",
    "    kmeans = KMeans(n_clusters=i)\n",
    "    kmeans.fit(principals)\n",
    "    inertias.append(kmeans.inertia_)"
   ]
  },
  {
   "cell_type": "code",
   "execution_count": 13,
   "metadata": {},
   "outputs": [
    {
     "data": {
      "text/plain": [
       "Text(0.5,1,'Inertia vs number of clusters')"
      ]
     },
     "execution_count": 13,
     "metadata": {},
     "output_type": "execute_result"
    },
    {
     "data": {
      "image/png": "[encoded data removed]",
      "text/plain": [
       "<matplotlib.figure.Figure at 0x20dfe72f5c0>"
      ]
     },
     "metadata": {},
     "output_type": "display_data"
    }
   ],
   "source": [
    "# visualizing the inertias\n",
    "plt.plot(range(1,15), inertias, marker='D')\n",
    "plt.xlabel(\"Number of clusters\")\n",
    "plt.ylabel(\"Inertia\")\n",
    "plt.title(\"Inertia vs number of clusters\")"
   ]
  },
  {
   "cell_type": "markdown",
   "metadata": {},
   "source": [
    "We notice that three cluster looks as a good knee point. It is not perfect. However, the change of slope before and after it is evident."
   ]
  },
  {
   "cell_type": "markdown",
   "metadata": {},
   "source": [
    "# Developing the pipeline\n",
    "Let's now develop the pipeline and run the clustering algorithm over the number of principal components and clusters we calculated above."
   ]
  },
  {
   "cell_type": "code",
   "execution_count": 14,
   "metadata": {},
   "outputs": [],
   "source": [
    "#developing a pipeline\n",
    "svd= TruncatedSVD(n_components=n_features)\n",
    "kmeans = KMeans(n_clusters=3)\n",
    "pipeline = make_pipeline(svd, kmeans)"
   ]
  },
  {
   "cell_type": "code",
   "execution_count": 15,
   "metadata": {},
   "outputs": [],
   "source": [
    "pipeline.fit(csr_mat)\n",
    "labels = pipeline.predict(csr_mat) #Generating the labels for each class"
   ]
  },
  {
   "cell_type": "markdown",
   "metadata": {},
   "source": [
    "Next, we will add the names into dataframe format."
   ]
  },
  {
   "cell_type": "code",
   "execution_count": 16,
   "metadata": {},
   "outputs": [],
   "source": [
    "df = pd.DataFrame({'labels': labels, 'poets': poet_labels_persian})\n",
    "df = df.sort_values(by='labels')"
   ]
  },
  {
   "cell_type": "code",
   "execution_count": 17,
   "metadata": {},
   "outputs": [
    {
     "name": "stdout",
     "output_type": "stream",
     "text": [
      "Poets grouped in category 0 are:\n",
      "\n",
      "['ظهیر' 'سنایی' 'رودکی' 'منوچهری' 'قاآنی' 'فردوسی' 'فرخی' 'ناصر خسرو'\n",
      " 'اسدی توسی' 'اسعد گرگانی' 'انوری' 'امیر معظی' 'عنصری']\n",
      "Poets grouped in category 1 are:\n",
      "\n",
      "['عبید زاکانی' 'نزاری قهستانی' 'وحشی بافقی' 'عرفی' 'اوحدی' 'سعدی'\n",
      " 'امیرخسرو' 'خیام' 'خاقانی' 'هاتف اصفهانی' 'جامی' 'سلمان' 'حافظ' 'شبستری'\n",
      " 'شاه نعمت الله' 'بیدل دهلوی' 'ملک الشعرای بهار' 'شیخ بهایی' 'بابافاضل'\n",
      " 'شهریار' 'صائب' 'رهی معیری']\n",
      "Poets grouped in category 2 are:\n",
      "\n",
      "['سیف فرغانی' 'ابوسعید ابوالخیر' 'پروین اعتصامی' 'مولوی' 'کمال اسماعیل'\n",
      " 'اقبال لاهوری' 'هلالی' 'گیلانی' 'فیض کاشانی' 'عراقی' 'عطار نیشابوری'\n",
      " 'آرتیمانی' 'خاجوی کرمانی']\n"
     ]
    }
   ],
   "source": [
    "for i in range(kmeans.n_clusters):\n",
    "    grouped = df.loc[df['labels']==i,'poets'].values\n",
    "    print(\"Poets grouped in category {} are:\\n\".format(i))\n",
    "    print(grouped)"
   ]
  },
  {
   "cell_type": "markdown",
   "metadata": {},
   "source": [
    "# Giving the poets actual labels\n",
    "\n",
    "Having some background in Persian Literatures, I notice the pattern being used to cluster these poets. The first group of poets are \"The Mystics\", they talk about spirituality, ethics, and meaning. The second group, are the \"The Wise\", they are poets who have lived in Khorasan mostly in 16th century and their main theme was to talk about \"Wisdom\" through stories. There are a couple of outliers, such as \"[Maleko Shoara](https://en.wikipedia.org/wiki/Mohammad-Taqi_Bahar)\" who was a contemporary poet. However, you can say that he followed the same language and themes as the poets from Khorasan. And last group are the \"Mainstream\" poets. Their main team is to talk about love, lover, and God with large amount of methaphors.  \n",
    "Please note that considering the large size of documents and small number of poets, the clusters are not ideal. There are cases that dont match the description. For example, [Parvin](https://en.wikipedia.org/wiki/Parvin_E%27tesami) can both be considered as Wise or Mystic, but obviously her poets are more tilted toward mystism."
   ]
  },
  {
   "cell_type": "code",
   "execution_count": 18,
   "metadata": {},
   "outputs": [],
   "source": [
    "label_map = {0:\"Mystics\",1:\"Wise\",2:\"Mainstream\"}"
   ]
  },
  {
   "cell_type": "code",
   "execution_count": 19,
   "metadata": {},
   "outputs": [],
   "source": [
    "df['labels'] = df['labels'].apply(lambda x: label_map[x])"
   ]
  },
  {
   "cell_type": "code",
   "execution_count": 20,
   "metadata": {},
   "outputs": [
    {
     "data": {
      "text/html": [
       "<div>\n",
       "<style scoped>\n",
       "    .dataframe tbody tr th:only-of-type {\n",
       "        vertical-align: middle;\n",
       "    }\n",
       "\n",
       "    .dataframe tbody tr th {\n",
       "        vertical-align: top;\n",
       "    }\n",
       "\n",
       "    .dataframe thead th {\n",
       "        text-align: right;\n",
       "    }\n",
       "</style>\n",
       "<table border=\"1\" class=\"dataframe\">\n",
       "  <thead>\n",
       "    <tr style=\"text-align: right;\">\n",
       "      <th></th>\n",
       "      <th>labels</th>\n",
       "      <th>poets</th>\n",
       "    </tr>\n",
       "  </thead>\n",
       "  <tbody>\n",
       "    <tr>\n",
       "      <th>47</th>\n",
       "      <td>Mystics</td>\n",
       "      <td>ظهیر</td>\n",
       "    </tr>\n",
       "    <tr>\n",
       "      <th>41</th>\n",
       "      <td>Mystics</td>\n",
       "      <td>سنایی</td>\n",
       "    </tr>\n",
       "    <tr>\n",
       "      <th>37</th>\n",
       "      <td>Mystics</td>\n",
       "      <td>رودکی</td>\n",
       "    </tr>\n",
       "    <tr>\n",
       "      <th>26</th>\n",
       "      <td>Mystics</td>\n",
       "      <td>منوچهری</td>\n",
       "    </tr>\n",
       "    <tr>\n",
       "      <th>14</th>\n",
       "      <td>Mystics</td>\n",
       "      <td>قاآنی</td>\n",
       "    </tr>\n",
       "  </tbody>\n",
       "</table>\n",
       "</div>"
      ],
      "text/plain": [
       "     labels    poets\n",
       "47  Mystics     ظهیر\n",
       "41  Mystics    سنایی\n",
       "37  Mystics    رودکی\n",
       "26  Mystics  منوچهری\n",
       "14  Mystics    قاآنی"
      ]
     },
     "execution_count": 20,
     "metadata": {},
     "output_type": "execute_result"
    }
   ],
   "source": [
    "df.head()"
   ]
  }
 ],
 "metadata": {
  "kernelspec": {
   "display_name": "Python 3",
   "language": "python",
   "name": "python3"
  },
  "language_info": {
   "codemirror_mode": {
    "name": "ipython",
    "version": 3
   },
   "file_extension": ".py",
   "mimetype": "text/x-python",
   "name": "python",
   "nbconvert_exporter": "python",
   "pygments_lexer": "ipython3",
   "version": "3.6.4"
  }
 },
 "nbformat": 4,
 "nbformat_minor": 2
}
